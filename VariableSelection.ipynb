{
 "cells": [
  {
   "cell_type": "markdown",
   "id": "8ab336c7",
   "metadata": {},
   "source": [
    "# Variable Selection Wrapper"
   ]
  },
  {
   "cell_type": "markdown",
   "id": "8196dc3f",
   "metadata": {},
   "source": [
    "### Importing database from CSV"
   ]
  },
  {
   "cell_type": "code",
   "execution_count": null,
   "id": "7f181883",
   "metadata": {},
   "outputs": [],
   "source": [
    "import pandas as pd\n",
    "\n",
    "df = pd.read_csv('data/AG.csv')\n",
    "df.head()"
   ]
  },
  {
   "cell_type": "markdown",
   "id": "807c6bcc",
   "metadata": {},
   "source": [
    "### Variable Selection"
   ]
  },
  {
   "cell_type": "code",
   "execution_count": null,
   "id": "8e3e4a90",
   "metadata": {},
   "outputs": [],
   "source": [
    "from genetic_algorithm.genetic_algorithm import genetic_algorithm\n",
    "\n",
    "# Algorithm usage:\n",
    "# genetic_algorithm(population_size:int, max_generations: int, mutation_rate:float, database: DataFrame)"
   ]
  },
  {
   "cell_type": "markdown",
   "id": "bd9a77f6",
   "metadata": {},
   "source": [
    "### Dispersion Matrices"
   ]
  },
  {
   "cell_type": "code",
   "execution_count": null,
   "id": "3b7b1f78",
   "metadata": {},
   "outputs": [],
   "source": [
    "# plot"
   ]
  }
 ],
 "metadata": {
  "kernelspec": {
   "display_name": "Python 3 (ipykernel)",
   "language": "python",
   "name": "python3"
  },
  "language_info": {
   "codemirror_mode": {
    "name": "ipython",
    "version": 3
   },
   "file_extension": ".py",
   "mimetype": "text/x-python",
   "name": "python",
   "nbconvert_exporter": "python",
   "pygments_lexer": "ipython3",
   "version": "3.8.10"
  }
 },
 "nbformat": 4,
 "nbformat_minor": 5
}
